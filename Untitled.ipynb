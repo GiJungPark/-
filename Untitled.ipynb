{
 "cells": [
  {
   "cell_type": "code",
   "execution_count": null,
   "id": "226b40fb",
   "metadata": {},
   "outputs": [],
   "source": [
    "import pandas as pd\n",
    "import numpy as np\n",
    "from geopy.geocoders import Nominatim"
   ]
  },
  {
   "cell_type": "code",
   "execution_count": null,
   "id": "e11cabe7",
   "metadata": {},
   "outputs": [],
   "source": [
    "geo_local = Nominatim(user_agent='South Korea')\n",
    "\n"
   ]
  },
  {
   "cell_type": "code",
   "execution_count": null,
   "id": "c23d5cda",
   "metadata": {},
   "outputs": [],
   "source": [
    "def geocoding(address):\n",
    "    try:\n",
    "        geo = geo_local.geocode(address)\n",
    "        x_y = [geo.latitude, geo.longitude]\n",
    "        return x_y\n",
    "    except:\n",
    "        return[0,0]"
   ]
  },
  {
   "cell_type": "code",
   "execution_count": null,
   "id": "18d5c368",
   "metadata": {},
   "outputs": [],
   "source": [
    "csv = pd.read_csv('서울시 공영주차장 안내 정보.csv', encoding='cp949')\n",
    "print(csv.head())"
   ]
  },
  {
   "cell_type": "code",
   "execution_count": null,
   "id": "b1c39cfa",
   "metadata": {},
   "outputs": [],
   "source": [
    "address = csv['주소']\n",
    "print(address.head())"
   ]
  },
  {
   "cell_type": "code",
   "execution_count": 10,
   "id": "31b6e88a",
   "metadata": {},
   "outputs": [],
   "source": [
    "address_1 = address.copy()"
   ]
  },
  {
   "cell_type": "code",
   "execution_count": 11,
   "id": "4d545ff2",
   "metadata": {
    "scrolled": true
   },
   "outputs": [],
   "source": [
    "for i in range(len(address)):\n",
    "    a = address[i].split(' ')\n",
    "    address_1[i] =  \" \".join(a[0:4])"
   ]
  },
  {
   "cell_type": "code",
   "execution_count": null,
   "id": "7c9f5880",
   "metadata": {},
   "outputs": [],
   "source": [
    "address_1"
   ]
  },
  {
   "cell_type": "code",
   "execution_count": null,
   "id": "b0950dd3",
   "metadata": {},
   "outputs": [],
   "source": [
    "latitude = []\n",
    "longitude = []\n",
    "\n",
    "for i in address_1:\n",
    "    latitude.append(geocoding(i)[0])\n",
    "    longitude.append(geocoding(i)[1])\n"
   ]
  },
  {
   "cell_type": "code",
   "execution_count": null,
   "id": "ae06a2cd",
   "metadata": {},
   "outputs": [],
   "source": []
  }
 ],
 "metadata": {
  "kernelspec": {
   "display_name": "Python 3 (ipykernel)",
   "language": "python",
   "name": "python3"
  },
  "language_info": {
   "codemirror_mode": {
    "name": "ipython",
    "version": 3
   },
   "file_extension": ".py",
   "mimetype": "text/x-python",
   "name": "python",
   "nbconvert_exporter": "python",
   "pygments_lexer": "ipython3",
   "version": "3.11.1"
  }
 },
 "nbformat": 4,
 "nbformat_minor": 5
}
